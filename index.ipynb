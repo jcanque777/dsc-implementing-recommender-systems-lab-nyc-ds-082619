{
 "cells": [
  {
   "cell_type": "markdown",
   "metadata": {},
   "source": [
    "# Implementing Recommender Systems - Lab\n",
    "\n",
    "## Introduction\n",
    "\n",
    "In this lab, you'll practice creating a recommender system model using surprise. You'll also get the chance to create a more complete recommender system pipeline to obtain the top recommendations for a specific user.\n"
   ]
  },
  {
   "cell_type": "markdown",
   "metadata": {},
   "source": [
    "## Objectives\n",
    "You will be able to:\n",
    "* Fit a recommender system model to a set of data\n",
    "* Create a function that will return the top recommendations for a user\n",
    "* Introduce a new user to a rating matrix and make recommendations for them"
   ]
  },
  {
   "cell_type": "markdown",
   "metadata": {},
   "source": [
    "For this lab, we will be using the famous 1M movie dataset. It contains a collection of user ratings for many different movies. In the last  lesson, you got exposed to working with Surprise datasets. In this lab, you will also go through the process of reading in a dataset into the Surprise dataset format. To begin with, load the dataset into a pandas dataframe. Determine which columns are necessary for your recommendation system and drop any extraneous ones."
   ]
  },
  {
   "cell_type": "code",
   "execution_count": 1,
   "metadata": {},
   "outputs": [
    {
     "name": "stdout",
     "output_type": "stream",
     "text": [
      "<class 'pandas.core.frame.DataFrame'>\n",
      "RangeIndex: 100836 entries, 0 to 100835\n",
      "Data columns (total 4 columns):\n",
      "userId       100836 non-null int64\n",
      "movieId      100836 non-null int64\n",
      "rating       100836 non-null float64\n",
      "timestamp    100836 non-null int64\n",
      "dtypes: float64(1), int64(3)\n",
      "memory usage: 3.1 MB\n"
     ]
    }
   ],
   "source": [
    "import pandas as pd\n",
    "df = pd.read_csv('./ml-latest-small/ratings.csv')\n",
    "df.info()"
   ]
  },
  {
   "cell_type": "code",
   "execution_count": 2,
   "metadata": {},
   "outputs": [
    {
     "data": {
      "text/html": [
       "<div>\n",
       "<style scoped>\n",
       "    .dataframe tbody tr th:only-of-type {\n",
       "        vertical-align: middle;\n",
       "    }\n",
       "\n",
       "    .dataframe tbody tr th {\n",
       "        vertical-align: top;\n",
       "    }\n",
       "\n",
       "    .dataframe thead th {\n",
       "        text-align: right;\n",
       "    }\n",
       "</style>\n",
       "<table border=\"1\" class=\"dataframe\">\n",
       "  <thead>\n",
       "    <tr style=\"text-align: right;\">\n",
       "      <th></th>\n",
       "      <th>userId</th>\n",
       "      <th>movieId</th>\n",
       "      <th>rating</th>\n",
       "      <th>timestamp</th>\n",
       "    </tr>\n",
       "  </thead>\n",
       "  <tbody>\n",
       "    <tr>\n",
       "      <td>0</td>\n",
       "      <td>1</td>\n",
       "      <td>1</td>\n",
       "      <td>4.0</td>\n",
       "      <td>964982703</td>\n",
       "    </tr>\n",
       "    <tr>\n",
       "      <td>1</td>\n",
       "      <td>1</td>\n",
       "      <td>3</td>\n",
       "      <td>4.0</td>\n",
       "      <td>964981247</td>\n",
       "    </tr>\n",
       "    <tr>\n",
       "      <td>2</td>\n",
       "      <td>1</td>\n",
       "      <td>6</td>\n",
       "      <td>4.0</td>\n",
       "      <td>964982224</td>\n",
       "    </tr>\n",
       "    <tr>\n",
       "      <td>3</td>\n",
       "      <td>1</td>\n",
       "      <td>47</td>\n",
       "      <td>5.0</td>\n",
       "      <td>964983815</td>\n",
       "    </tr>\n",
       "    <tr>\n",
       "      <td>4</td>\n",
       "      <td>1</td>\n",
       "      <td>50</td>\n",
       "      <td>5.0</td>\n",
       "      <td>964982931</td>\n",
       "    </tr>\n",
       "    <tr>\n",
       "      <td>...</td>\n",
       "      <td>...</td>\n",
       "      <td>...</td>\n",
       "      <td>...</td>\n",
       "      <td>...</td>\n",
       "    </tr>\n",
       "    <tr>\n",
       "      <td>100831</td>\n",
       "      <td>610</td>\n",
       "      <td>166534</td>\n",
       "      <td>4.0</td>\n",
       "      <td>1493848402</td>\n",
       "    </tr>\n",
       "    <tr>\n",
       "      <td>100832</td>\n",
       "      <td>610</td>\n",
       "      <td>168248</td>\n",
       "      <td>5.0</td>\n",
       "      <td>1493850091</td>\n",
       "    </tr>\n",
       "    <tr>\n",
       "      <td>100833</td>\n",
       "      <td>610</td>\n",
       "      <td>168250</td>\n",
       "      <td>5.0</td>\n",
       "      <td>1494273047</td>\n",
       "    </tr>\n",
       "    <tr>\n",
       "      <td>100834</td>\n",
       "      <td>610</td>\n",
       "      <td>168252</td>\n",
       "      <td>5.0</td>\n",
       "      <td>1493846352</td>\n",
       "    </tr>\n",
       "    <tr>\n",
       "      <td>100835</td>\n",
       "      <td>610</td>\n",
       "      <td>170875</td>\n",
       "      <td>3.0</td>\n",
       "      <td>1493846415</td>\n",
       "    </tr>\n",
       "  </tbody>\n",
       "</table>\n",
       "<p>100836 rows × 4 columns</p>\n",
       "</div>"
      ],
      "text/plain": [
       "        userId  movieId  rating   timestamp\n",
       "0            1        1     4.0   964982703\n",
       "1            1        3     4.0   964981247\n",
       "2            1        6     4.0   964982224\n",
       "3            1       47     5.0   964983815\n",
       "4            1       50     5.0   964982931\n",
       "...        ...      ...     ...         ...\n",
       "100831     610   166534     4.0  1493848402\n",
       "100832     610   168248     5.0  1493850091\n",
       "100833     610   168250     5.0  1494273047\n",
       "100834     610   168252     5.0  1493846352\n",
       "100835     610   170875     3.0  1493846415\n",
       "\n",
       "[100836 rows x 4 columns]"
      ]
     },
     "execution_count": 2,
     "metadata": {},
     "output_type": "execute_result"
    }
   ],
   "source": [
    "df"
   ]
  },
  {
   "cell_type": "code",
   "execution_count": 4,
   "metadata": {},
   "outputs": [],
   "source": [
    "#drop unnecessary columns\n",
    "new_df= df.drop(columns='timestamp')"
   ]
  },
  {
   "cell_type": "code",
   "execution_count": 7,
   "metadata": {},
   "outputs": [
    {
     "name": "stdout",
     "output_type": "stream",
     "text": [
      "Collecting scikit-surprise\n",
      "\u001b[?25l  Downloading https://files.pythonhosted.org/packages/f5/da/b5700d96495fb4f092be497f02492768a3d96a3f4fa2ae7dea46d4081cfa/scikit-surprise-1.1.0.tar.gz (6.4MB)\n",
      "\u001b[K     |████████████████████████████████| 6.5MB 14.2MB/s eta 0:00:01\n",
      "\u001b[?25hRequirement already satisfied: joblib>=0.11 in /opt/conda/envs/learn-env/lib/python3.6/site-packages (from scikit-surprise) (0.14.0)\n",
      "Requirement already satisfied: numpy>=1.11.2 in /opt/conda/envs/learn-env/lib/python3.6/site-packages (from scikit-surprise) (1.17.2)\n",
      "Requirement already satisfied: scipy>=1.0.0 in /opt/conda/envs/learn-env/lib/python3.6/site-packages (from scikit-surprise) (1.3.1)\n",
      "Requirement already satisfied: six>=1.10.0 in /opt/conda/envs/learn-env/lib/python3.6/site-packages (from scikit-surprise) (1.12.0)\n",
      "Building wheels for collected packages: scikit-surprise\n",
      "  Building wheel for scikit-surprise (setup.py) ... \u001b[?25ldone\n",
      "\u001b[?25h  Created wheel for scikit-surprise: filename=scikit_surprise-1.1.0-cp36-cp36m-linux_x86_64.whl size=1709103 sha256=12bd672b00691333175f89ff20dc6853436dba00bf7c0365da1935e7c1c90d5f\n",
      "  Stored in directory: /home/effulgent-block-4530/.cache/pip/wheels/cc/fa/8c/16c93fccce688ae1bde7d979ff102f7bee980d9cfeb8641bcf\n",
      "Successfully built scikit-surprise\n",
      "Installing collected packages: scikit-surprise\n",
      "Successfully installed scikit-surprise-1.1.0\n",
      "Note: you may need to restart the kernel to use updated packages.\n"
     ]
    }
   ],
   "source": [
    "pip install scikit-surprise"
   ]
  },
  {
   "cell_type": "markdown",
   "metadata": {},
   "source": [
    "It's now time to transform the dataset into something compatible with Surprise. In order to do this, you're going to need `Reader` and `Dataset` classes. There's a method in `Dataset` specifically for loading dataframes."
   ]
  },
  {
   "cell_type": "code",
   "execution_count": null,
   "metadata": {},
   "outputs": [],
   "source": []
  },
  {
   "cell_type": "code",
   "execution_count": 8,
   "metadata": {},
   "outputs": [],
   "source": [
    "from surprise import Reader, Dataset\n",
    "# read in values as Surprise dataset \n",
    "reader = Reader()\n",
    "data = Dataset.load_from_df(new_df, reader)\n"
   ]
  },
  {
   "cell_type": "markdown",
   "metadata": {},
   "source": [
    "Let's look at how many users and items we have in our dataset. If using neighborhood-based methods, this will help us determine whether or not we should perform user-user or item-item similarity"
   ]
  },
  {
   "cell_type": "code",
   "execution_count": 9,
   "metadata": {},
   "outputs": [
    {
     "name": "stdout",
     "output_type": "stream",
     "text": [
      "Number of users:  610 \n",
      "\n",
      "Number of items:  9724\n"
     ]
    }
   ],
   "source": [
    "dataset = data.build_full_trainset()\n",
    "print('Number of users: ',dataset.n_users,'\\n')\n",
    "print('Number of items: ',dataset.n_items)"
   ]
  },
  {
   "cell_type": "markdown",
   "metadata": {},
   "source": [
    "## Determine the Best Model\n",
    "Now, compare the different models and see which ones perform best. For consistency sake, use RMSE to evaluate models. Remember to cross-validate! Can you get a model with a higher average RMSE on test data than 0.869?"
   ]
  },
  {
   "cell_type": "code",
   "execution_count": 10,
   "metadata": {},
   "outputs": [],
   "source": [
    "# importing relevant libraries\n",
    "from surprise.model_selection import cross_validate\n",
    "from surprise.prediction_algorithms import SVD\n",
    "from surprise.prediction_algorithms import KNNWithMeans, KNNBasic, KNNBaseline\n",
    "from surprise.model_selection import GridSearchCV\n",
    "import numpy as np"
   ]
  },
  {
   "cell_type": "code",
   "execution_count": 11,
   "metadata": {},
   "outputs": [],
   "source": [
    "## Perform a gridsearch with SVD\n",
    "# ⏰ This cell may take several minutes to run\n",
    "params = {'n_factors' :[20,50,100],\n",
    "         'reg_all':[0.02,0.05,0.1]}\n",
    "g_s_svd = GridSearchCV(SVD,param_grid=params,n_jobs=-1)\n",
    "g_s_svd.fit(data)"
   ]
  },
  {
   "cell_type": "code",
   "execution_count": 12,
   "metadata": {},
   "outputs": [
    {
     "name": "stdout",
     "output_type": "stream",
     "text": [
      "{'rmse': 0.8686642989317372, 'mae': 0.6679045205058355}\n",
      "{'rmse': {'n_factors': 100, 'reg_all': 0.05}, 'mae': {'n_factors': 100, 'reg_all': 0.05}}\n"
     ]
    }
   ],
   "source": [
    "# print out optimal parameters for SVD after GridSearch\n",
    "print(g_s_svd.best_score)\n",
    "print(g_s_svd.best_params)"
   ]
  },
  {
   "cell_type": "code",
   "execution_count": 13,
   "metadata": {},
   "outputs": [],
   "source": [
    "# cross validating with KNNBasic\n",
    "knn_basic = KNNBasic(sim_options={'name':'pearson','user_based':True})\n",
    "cv_knn_basic= cross_validate(knn_basic,data,n_jobs=-1)"
   ]
  },
  {
   "cell_type": "code",
   "execution_count": 14,
   "metadata": {},
   "outputs": [
    {
     "name": "stdout",
     "output_type": "stream",
     "text": [
      "('test_rmse', array([0.96576963, 0.97703163, 0.97322079, 0.974897  , 0.96989543]))\n",
      "('test_mae', array([0.74752201, 0.75175026, 0.75102473, 0.75432234, 0.75066939]))\n",
      "('fit_time', (0.4205756187438965, 0.6413142681121826, 0.42450690269470215, 0.45615172386169434, 0.4171907901763916))\n",
      "('test_time', (1.5315988063812256, 1.2494122982025146, 1.3657052516937256, 1.2834539413452148, 1.2733871936798096))\n",
      "-----------------------\n",
      "0.9721628969065454\n"
     ]
    }
   ],
   "source": [
    "# print out the average RMSE score for the test set\n",
    "for i in cv_knn_basic.items():\n",
    "    print(i)\n",
    "print('-----------------------')\n",
    "print(np.mean(cv_knn_basic['test_rmse']))"
   ]
  },
  {
   "cell_type": "code",
   "execution_count": 15,
   "metadata": {},
   "outputs": [
    {
     "name": "stdout",
     "output_type": "stream",
     "text": [
      "Estimating biases using als...\n",
      "Computing the pearson similarity matrix...\n",
      "Done computing similarity matrix.\n",
      "Estimating biases using als...\n",
      "Computing the pearson similarity matrix...\n",
      "Done computing similarity matrix.\n",
      "Estimating biases using als...\n",
      "Computing the pearson similarity matrix...\n",
      "Done computing similarity matrix.\n",
      "Estimating biases using als...\n",
      "Computing the pearson similarity matrix...\n",
      "Done computing similarity matrix.\n",
      "Estimating biases using als...\n",
      "Computing the pearson similarity matrix...\n",
      "Done computing similarity matrix.\n"
     ]
    }
   ],
   "source": [
    "# cross validating with KNNBaseline\n",
    "knn_baseline = KNNBaseline(sim_options={'name':'pearson','user_based':True})\n",
    "cv_knn_baseline = cross_validate(knn_baseline,data)"
   ]
  },
  {
   "cell_type": "code",
   "execution_count": 16,
   "metadata": {},
   "outputs": [
    {
     "name": "stdout",
     "output_type": "stream",
     "text": [
      "('test_rmse', array([0.88532598, 0.87770309, 0.87328514, 0.87415363, 0.87254866]))\n",
      "('test_mae', array([0.67659825, 0.67151256, 0.66647875, 0.66590132, 0.66779003]))\n",
      "('fit_time', (0.6661584377288818, 0.7837166786193848, 0.8569235801696777, 0.8324124813079834, 0.7435562610626221))\n",
      "('test_time', (2.2100303173065186, 2.0122690200805664, 2.31628155708313, 2.034471273422241, 2.2625696659088135))\n"
     ]
    },
    {
     "data": {
      "text/plain": [
       "0.8766033017523508"
      ]
     },
     "execution_count": 16,
     "metadata": {},
     "output_type": "execute_result"
    }
   ],
   "source": [
    "# print out the average score for the test set\n",
    "for i in cv_knn_baseline.items():\n",
    "    print(i)\n",
    "\n",
    "np.mean(cv_knn_baseline['test_rmse'])"
   ]
  },
  {
   "cell_type": "markdown",
   "metadata": {},
   "source": [
    "Based off these outputs, it seems like the best performing model is the SVD model with n_factors = 50 and a regularization rate of 0.05. Let's use that model to make some predictions. Use that model or if you found one that performs better, feel free to use that."
   ]
  },
  {
   "cell_type": "markdown",
   "metadata": {},
   "source": [
    "## Making Recommendations\n",
    "\n",
    "This next section is going to involve making recommendations, and it's important that the output for the recommendation is interpretable to people. Rather than returning the movie_id values, it would be far more valuable to return the actual title of the movie. As a first step, let's read in the movies to a dataframe and take a peek at what information we have about them."
   ]
  },
  {
   "cell_type": "code",
   "execution_count": 17,
   "metadata": {},
   "outputs": [],
   "source": [
    "df_movies = pd.read_csv('./ml-latest-small/movies.csv')"
   ]
  },
  {
   "cell_type": "code",
   "execution_count": 18,
   "metadata": {
    "scrolled": true
   },
   "outputs": [
    {
     "data": {
      "text/html": [
       "<div>\n",
       "<style scoped>\n",
       "    .dataframe tbody tr th:only-of-type {\n",
       "        vertical-align: middle;\n",
       "    }\n",
       "\n",
       "    .dataframe tbody tr th {\n",
       "        vertical-align: top;\n",
       "    }\n",
       "\n",
       "    .dataframe thead th {\n",
       "        text-align: right;\n",
       "    }\n",
       "</style>\n",
       "<table border=\"1\" class=\"dataframe\">\n",
       "  <thead>\n",
       "    <tr style=\"text-align: right;\">\n",
       "      <th></th>\n",
       "      <th>movieId</th>\n",
       "      <th>title</th>\n",
       "      <th>genres</th>\n",
       "    </tr>\n",
       "  </thead>\n",
       "  <tbody>\n",
       "    <tr>\n",
       "      <td>0</td>\n",
       "      <td>1</td>\n",
       "      <td>Toy Story (1995)</td>\n",
       "      <td>Adventure|Animation|Children|Comedy|Fantasy</td>\n",
       "    </tr>\n",
       "    <tr>\n",
       "      <td>1</td>\n",
       "      <td>2</td>\n",
       "      <td>Jumanji (1995)</td>\n",
       "      <td>Adventure|Children|Fantasy</td>\n",
       "    </tr>\n",
       "    <tr>\n",
       "      <td>2</td>\n",
       "      <td>3</td>\n",
       "      <td>Grumpier Old Men (1995)</td>\n",
       "      <td>Comedy|Romance</td>\n",
       "    </tr>\n",
       "    <tr>\n",
       "      <td>3</td>\n",
       "      <td>4</td>\n",
       "      <td>Waiting to Exhale (1995)</td>\n",
       "      <td>Comedy|Drama|Romance</td>\n",
       "    </tr>\n",
       "    <tr>\n",
       "      <td>4</td>\n",
       "      <td>5</td>\n",
       "      <td>Father of the Bride Part II (1995)</td>\n",
       "      <td>Comedy</td>\n",
       "    </tr>\n",
       "  </tbody>\n",
       "</table>\n",
       "</div>"
      ],
      "text/plain": [
       "   movieId                               title  \\\n",
       "0        1                    Toy Story (1995)   \n",
       "1        2                      Jumanji (1995)   \n",
       "2        3             Grumpier Old Men (1995)   \n",
       "3        4            Waiting to Exhale (1995)   \n",
       "4        5  Father of the Bride Part II (1995)   \n",
       "\n",
       "                                        genres  \n",
       "0  Adventure|Animation|Children|Comedy|Fantasy  \n",
       "1                   Adventure|Children|Fantasy  \n",
       "2                               Comedy|Romance  \n",
       "3                         Comedy|Drama|Romance  \n",
       "4                                       Comedy  "
      ]
     },
     "execution_count": 18,
     "metadata": {},
     "output_type": "execute_result"
    }
   ],
   "source": [
    "df_movies.head()"
   ]
  },
  {
   "cell_type": "markdown",
   "metadata": {},
   "source": [
    "## Making simple predictions\n",
    "Just as a reminder, let's look at how you make a prediction for an individual user and item. First, we'll fit the SVD model we had from before."
   ]
  },
  {
   "cell_type": "code",
   "execution_count": 19,
   "metadata": {},
   "outputs": [
    {
     "data": {
      "text/plain": [
       "<surprise.prediction_algorithms.matrix_factorization.SVD at 0x7f65882b8780>"
      ]
     },
     "execution_count": 19,
     "metadata": {},
     "output_type": "execute_result"
    }
   ],
   "source": [
    "svd = SVD(n_factors= 50, reg_all=0.05)\n",
    "svd.fit(dataset)"
   ]
  },
  {
   "cell_type": "code",
   "execution_count": 20,
   "metadata": {},
   "outputs": [
    {
     "data": {
      "text/plain": [
       "Prediction(uid=2, iid=4, r_ui=None, est=3.048191693172843, details={'was_impossible': False})"
      ]
     },
     "execution_count": 20,
     "metadata": {},
     "output_type": "execute_result"
    }
   ],
   "source": [
    "svd.predict(2,4)"
   ]
  },
  {
   "cell_type": "markdown",
   "metadata": {},
   "source": [
    "This prediction value is a tuple and each of the values within it can be accessed by way of indexing. Now let's put all of our knowledge of recommendation systems to do something interesting: making predictions for a new user!"
   ]
  },
  {
   "cell_type": "markdown",
   "metadata": {},
   "source": [
    "## Obtaining User Ratings \n",
    "\n",
    "It's great that we have working models and everything, but wouldn't it be nice to get to recommendations specifically tailored to your preferences? That's what we'll be doing now. The first step to go let's create a function that allows students to pick randomly selected movies. The function should present users with a movie and ask them to rate it. If they have not seen the movie, they should be able to skip rating it. \n",
    "\n",
    "The function `movie_rater` should take as parameters:\n",
    "* movie_df : DataFrame - a dataframe containing the movie ids, name of movie, and genres\n",
    "* num : int - number of ratings\n",
    "* genre : string - a specific genre from which to draw movies\n",
    "\n",
    "The function returns:\n",
    "* rating_list : list - a collection of dictionaries in the format of {'userId': int  , 'movieId': int  ,'rating': float  }\n",
    "\n",
    "#### This function is optional, but fun :) "
   ]
  },
  {
   "cell_type": "code",
   "execution_count": 21,
   "metadata": {},
   "outputs": [],
   "source": [
    "def movie_rater(movie_df,num, genre=None):\n",
    "    userID = 1000\n",
    "    rating_list = []\n",
    "    while num > 0:\n",
    "        if genre:\n",
    "            movie = movie_df[movie_df['genres'].str.contains(genre)].sample(1)\n",
    "        else:\n",
    "            movie = movie_df.sample(1)\n",
    "        print(movie)\n",
    "        rating = input('How do you rate this movie on a scale of 1-5, press n if you have not seen :\\n')\n",
    "        if rating == 'n':\n",
    "            continue\n",
    "        else:\n",
    "            rating_one_movie = {'userId':userID,'movieId':movie['movieId'].values[0],'rating':rating}\n",
    "            rating_list.append(rating_one_movie) \n",
    "            num -= 1\n",
    "    return rating_list"
   ]
  },
  {
   "cell_type": "code",
   "execution_count": 22,
   "metadata": {
    "scrolled": true
   },
   "outputs": [
    {
     "name": "stdout",
     "output_type": "stream",
     "text": [
      "      movieId             title        genres\n",
      "6471    52724  Lucky You (2007)  Comedy|Drama\n",
      "How do you rate this movie on a scale of 1-5, press n if you have not seen :\n",
      "n\n",
      "      movieId                  title  genres\n",
      "6594    55292  Comebacks, The (2007)  Comedy\n",
      "How do you rate this movie on a scale of 1-5, press n if you have not seen :\n",
      "n\n",
      "      movieId                         title        genres\n",
      "9104   144478  Sex, Drugs & Taxation (2013)  Comedy|Drama\n",
      "How do you rate this movie on a scale of 1-5, press n if you have not seen :\n",
      "n\n",
      "      movieId                                         title  genres\n",
      "4423     6535  Legally Blonde 2: Red, White & Blonde (2003)  Comedy\n",
      "How do you rate this movie on a scale of 1-5, press n if you have not seen :\n",
      "n\n",
      "      movieId             title                genres\n",
      "4342     6342  Trip, The (2002)  Comedy|Drama|Romance\n",
      "How do you rate this movie on a scale of 1-5, press n if you have not seen :\n",
      "n\n",
      "      movieId                  title  genres\n",
      "1707     2295  Impostors, The (1998)  Comedy\n",
      "How do you rate this movie on a scale of 1-5, press n if you have not seen :\n",
      "n\n",
      "      movieId          title  genres\n",
      "1089     1414  Mother (1996)  Comedy\n",
      "How do you rate this movie on a scale of 1-5, press n if you have not seen :\n",
      "n\n",
      "      movieId                 title                genres\n",
      "5711    27826  Touch of Pink (2004)  Comedy|Drama|Romance\n",
      "How do you rate this movie on a scale of 1-5, press n if you have not seen :\n",
      "n\n",
      "      movieId                         title                        genres\n",
      "5836    32314  Incident at Loch Ness (2004)  Adventure|Comedy|Documentary\n",
      "How do you rate this movie on a scale of 1-5, press n if you have not seen :\n",
      "n\n",
      "      movieId                                              title  \\\n",
      "2963     3972  Legend of Drunken Master, The (Jui kuen II) (1...   \n",
      "\n",
      "             genres  \n",
      "2963  Action|Comedy  \n",
      "How do you rate this movie on a scale of 1-5, press n if you have not seen :\n",
      "5\n",
      "     movieId                                              title  \\\n",
      "406      468  Englishman Who Went Up a Hill But Came Down a ...   \n",
      "\n",
      "             genres  \n",
      "406  Comedy|Romance  \n",
      "How do you rate this movie on a scale of 1-5, press n if you have not seen :\n",
      "n\n",
      "      movieId                                              title  \\\n",
      "5572    26776  Porco Rosso (Crimson Pig) (Kurenai no buta) (1...   \n",
      "\n",
      "                                          genres  \n",
      "5572  Adventure|Animation|Comedy|Fantasy|Romance  \n",
      "How do you rate this movie on a scale of 1-5, press n if you have not seen :\n",
      "n\n",
      "      movieId                             title                     genres\n",
      "8936   136359  Scooby-Doo Goes Hollywood (1979)  Animation|Children|Comedy\n",
      "How do you rate this movie on a scale of 1-5, press n if you have not seen :\n",
      "n\n",
      "      movieId            title      genres\n",
      "3220     4349  Catch-22 (1970)  Comedy|War\n",
      "How do you rate this movie on a scale of 1-5, press n if you have not seen :\n",
      "n\n",
      "      movieId               title        genres\n",
      "4177     6020  Alice Adams (1935)  Comedy|Drama\n",
      "How do you rate this movie on a scale of 1-5, press n if you have not seen :\n",
      "n\n",
      "      movieId                                              title  genres\n",
      "4091     5849  I'm Starting From Three (Ricomincio da Tre) (1...  Comedy\n",
      "How do you rate this movie on a scale of 1-5, press n if you have not seen :\n",
      "n\n",
      "      movieId                                              title  genres\n",
      "2597     3473  Jonah Who Will Be 25 in the Year 2000 (Jonas q...  Comedy\n",
      "How do you rate this movie on a scale of 1-5, press n if you have not seen :\n",
      "n\n",
      "      movieId                               title  genres\n",
      "3135     4219  Girls Just Want to Have Fun (1985)  Comedy\n",
      "How do you rate this movie on a scale of 1-5, press n if you have not seen :\n",
      "n\n",
      "      movieId                                 title  genres\n",
      "9659   181139  Lynne Koplitz: Hormonal Beast (2017)  Comedy\n",
      "How do you rate this movie on a scale of 1-5, press n if you have not seen :\n",
      "n\n",
      "      movieId                          title                genres\n",
      "8182   103027  Much Ado About Nothing (2012)  Comedy|Drama|Romance\n",
      "How do you rate this movie on a scale of 1-5, press n if you have not seen :\n",
      "n\n",
      "      movieId                       title  genres\n",
      "5075     7983  Broadway Danny Rose (1984)  Comedy\n",
      "How do you rate this movie on a scale of 1-5, press n if you have not seen :\n",
      "n\n",
      "      movieId           title                                 genres\n",
      "6774    60074  Hancock (2008)  Action|Adventure|Comedy|Crime|Fantasy\n",
      "How do you rate this movie on a scale of 1-5, press n if you have not seen :\n",
      "3\n",
      "      movieId                    title                genres\n",
      "1953     2589  Friends & Lovers (1999)  Comedy|Drama|Romance\n",
      "How do you rate this movie on a scale of 1-5, press n if you have not seen :\n",
      "n\n",
      "      movieId                  title            genres\n",
      "8022    97913  Wreck-It Ralph (2012)  Animation|Comedy\n",
      "How do you rate this movie on a scale of 1-5, press n if you have not seen :\n",
      "5\n",
      "      movieId                       title          genres\n",
      "3251     4394  Beach Blanket Bingo (1965)  Comedy|Musical\n",
      "How do you rate this movie on a scale of 1-5, press n if you have not seen :\n",
      "n\n",
      "      movieId                    title        genres\n",
      "6533    54281  Charlie Bartlett (2007)  Comedy|Drama\n",
      "How do you rate this movie on a scale of 1-5, press n if you have not seen :\n",
      "n\n",
      "      movieId                 title                genres\n",
      "3383     4602  Harlem Nights (1989)  Comedy|Crime|Romance\n",
      "How do you rate this movie on a scale of 1-5, press n if you have not seen :\n",
      "n\n",
      "      movieId                               title        genres\n",
      "1613     2155  Slums of Beverly Hills, The (1998)  Comedy|Drama\n",
      "How do you rate this movie on a scale of 1-5, press n if you have not seen :\n",
      "n\n",
      "      movieId                         title                  genres\n",
      "5424    25870  Here Comes Mr. Jordan (1941)  Comedy|Fantasy|Romance\n",
      "How do you rate this movie on a scale of 1-5, press n if you have not seen :\n",
      "n\n",
      "      movieId                  title  genres\n",
      "3696     5096  Baby's Day Out (1994)  Comedy\n",
      "How do you rate this movie on a scale of 1-5, press n if you have not seen :\n",
      "n\n",
      "      movieId                title        genres\n",
      "6669    57522  First Sunday (2008)  Comedy|Crime\n",
      "How do you rate this movie on a scale of 1-5, press n if you have not seen :\n",
      "n\n",
      "      movieId                 title        genres\n",
      "8852   132800  Welcome to Me (2014)  Comedy|Drama\n",
      "How do you rate this movie on a scale of 1-5, press n if you have not seen :\n",
      "n\n",
      "      movieId                               title          genres\n",
      "3796     5309  Three Men and a Little Lady (1990)  Comedy|Romance\n",
      "How do you rate this movie on a scale of 1-5, press n if you have not seen :\n",
      "n\n",
      "      movieId            title            genres\n",
      "4884     7317  EuroTrip (2004)  Adventure|Comedy\n",
      "How do you rate this movie on a scale of 1-5, press n if you have not seen :\n",
      "5\n"
     ]
    }
   ],
   "source": [
    "# try out the new function here!\n",
    "user_rating = movie_rater(df_movies,4,'Comedy')"
   ]
  },
  {
   "cell_type": "markdown",
   "metadata": {},
   "source": [
    "If you're struggling to come up with the above function, you can use this list of user ratings to complete the next segment"
   ]
  },
  {
   "cell_type": "code",
   "execution_count": 38,
   "metadata": {},
   "outputs": [
    {
     "data": {
      "text/plain": [
       "[{'userId': 1000, 'movieId': 55245, 'rating': '5'},\n",
       " {'userId': 1000, 'movieId': 2491, 'rating': '4'},\n",
       " {'userId': 1000, 'movieId': 4718, 'rating': '4'},\n",
       " {'userId': 1000, 'movieId': 5990, 'rating': '3'}]"
      ]
     },
     "execution_count": 38,
     "metadata": {},
     "output_type": "execute_result"
    }
   ],
   "source": [
    "user_rating"
   ]
  },
  {
   "cell_type": "markdown",
   "metadata": {},
   "source": [
    "### Making Predictions With the New Ratings\n",
    "Now that you have new ratings, you can use them to make predictions for this new user. The proper way this should work is:\n",
    "\n",
    "* add the new ratings to the original ratings DataFrame, read into a Surprise dataset\n",
    "* train a model using the new combined DataFrame\n",
    "* make predictions for the user\n",
    "* order those predictions from highest rated to lowest rated\n",
    "* return the top n recommendations with the text of the actual movie (rather than just the index number)"
   ]
  },
  {
   "cell_type": "code",
   "execution_count": 23,
   "metadata": {},
   "outputs": [],
   "source": [
    "## add the new ratings to the original ratings DataFrame\n",
    "new_ratings_df = new_df.append(user_rating,ignore_index=True)\n",
    "new_data = Dataset.load_from_df(new_ratings_df,reader)"
   ]
  },
  {
   "cell_type": "code",
   "execution_count": 24,
   "metadata": {},
   "outputs": [
    {
     "data": {
      "text/plain": [
       "<surprise.prediction_algorithms.matrix_factorization.SVD at 0x7f65882c8ba8>"
      ]
     },
     "execution_count": 24,
     "metadata": {},
     "output_type": "execute_result"
    }
   ],
   "source": [
    "# train a model using the new combined DataFrame\n",
    "svd_ = SVD(n_factors= 50, reg_all=0.05)\n",
    "svd_.fit(new_data.build_full_trainset())"
   ]
  },
  {
   "cell_type": "code",
   "execution_count": 25,
   "metadata": {},
   "outputs": [],
   "source": [
    "# make predictions for the user\n",
    "# you'll probably want to create a list of tuples in the format (movie_id, predicted_score)\n",
    "list_of_movies = []\n",
    "for m_id in new_df['movieId'].unique():\n",
    "    list_of_movies.append( (m_id,svd_.predict(1000,m_id)[3]))"
   ]
  },
  {
   "cell_type": "code",
   "execution_count": 26,
   "metadata": {},
   "outputs": [],
   "source": [
    "# order the predictions from highest to lowest rated\n",
    "\n",
    "ranked_movies = sorted(list_of_movies,key=lambda x:x[1],reverse=True)"
   ]
  },
  {
   "cell_type": "markdown",
   "metadata": {},
   "source": [
    " For the final component of this challenge, it could be useful to create a function `recommended_movies` that takes in the parameters:\n",
    "* `user_ratings` : list - list of tuples formulated as (user_id, movie_id) (should be in order of best to worst for this individual)\n",
    "* `movie_title_df` : DataFrame \n",
    "* `n` : int- number of recommended movies \n",
    "\n",
    "The function should use a for loop to print out each recommended *n* movies in order from best to worst"
   ]
  },
  {
   "cell_type": "code",
   "execution_count": 27,
   "metadata": {},
   "outputs": [
    {
     "name": "stdout",
     "output_type": "stream",
     "text": [
      "Recommendation #  1 :  277    Shawshank Redemption, The (1994)\n",
      "Name: title, dtype: object \n",
      "\n",
      "Recommendation #  2 :  2582    Guess Who's Coming to Dinner (1967)\n",
      "Name: title, dtype: object \n",
      "\n",
      "Recommendation #  3 :  694    Casablanca (1942)\n",
      "Name: title, dtype: object \n",
      "\n",
      "Recommendation #  4 :  3622    Amelie (Fabuleux destin d'Amélie Poulain, Le) ...\n",
      "Name: title, dtype: object \n",
      "\n",
      "Recommendation #  5 :  704    Sunset Blvd. (a.k.a. Sunset Boulevard) (1950)\n",
      "Name: title, dtype: object \n",
      "\n"
     ]
    }
   ],
   "source": [
    "# return the top n recommendations using the \n",
    "def recommended_movies(user_ratings,movie_title_df,n):\n",
    "        for idx, rec in enumerate(user_ratings):\n",
    "            title = movie_title_df.loc[movie_title_df['movieId'] == int(rec[0])]['title']\n",
    "            print('Recommendation # ',idx+1,': ',title,'\\n')\n",
    "            n-= 1\n",
    "            if n == 0:\n",
    "                break\n",
    "            \n",
    "recommended_movies(ranked_movies,df_movies,5)"
   ]
  },
  {
   "cell_type": "markdown",
   "metadata": {},
   "source": [
    "## Level Up\n",
    "\n",
    "* Try and chain all of the steps together into one function that asks users for ratings for a certain number of movies, then all of the above steps are performed to return the top n recommendations\n",
    "* Make a recommender system that only returns items that come from a specified genre"
   ]
  },
  {
   "cell_type": "markdown",
   "metadata": {},
   "source": [
    "## Summary\n",
    "\n",
    "In this lab, you got the change to implement a collaborative filtering model as well as retrieve recommendations from that model. You also got the opportunity to add your own recommendations to the system to get new recommendations for yourself! Next, you will get exposed to using spark to make recommender systems."
   ]
  }
 ],
 "metadata": {
  "kernelspec": {
   "display_name": "Python 3",
   "language": "python",
   "name": "python3"
  },
  "language_info": {
   "codemirror_mode": {
    "name": "ipython",
    "version": 3
   },
   "file_extension": ".py",
   "mimetype": "text/x-python",
   "name": "python",
   "nbconvert_exporter": "python",
   "pygments_lexer": "ipython3",
   "version": "3.6.9"
  },
  "toc": {
   "base_numbering": 1,
   "nav_menu": {},
   "number_sections": true,
   "sideBar": true,
   "skip_h1_title": false,
   "title_cell": "Table of Contents",
   "title_sidebar": "Contents",
   "toc_cell": false,
   "toc_position": {},
   "toc_section_display": true,
   "toc_window_display": false
  }
 },
 "nbformat": 4,
 "nbformat_minor": 2
}
